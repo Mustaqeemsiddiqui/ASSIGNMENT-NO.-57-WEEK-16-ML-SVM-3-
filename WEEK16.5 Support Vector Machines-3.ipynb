{
 "cells": [
  {
   "cell_type": "markdown",
   "id": "24d121d7-40c2-4a3b-836a-6197ed8934b1",
   "metadata": {},
   "source": [
    "**Q1. In order to predict house price based on several characteristics, such as location, square footage,\n",
    "number of bedrooms, etc., you are developing an SVM regression model. Which regression metric in this\n",
    "situation would be the best to employ?**\n",
    "\n",
    "Datasetlink:https://drive.google.com/file/d/1Z9oLpmt6IDRNw7IeNcHYTGeJRYypRSC0/view?usp=share_link"
   ]
  },
  {
   "cell_type": "markdown",
   "id": "3210874b-afd2-441f-a3d8-3e44cf065882",
   "metadata": {},
   "source": [
    "**ANSWER:-------**\n",
    "\n",
    "\n",
    "\n",
    "For predicting house prices using an SVM regression model, common regression metrics to evaluate the model's performance include:\n",
    "\n",
    "1. **Mean Absolute Error (MAE):** Measures the average magnitude of errors in a set of predictions, without considering their direction.\n",
    "2. **Mean Squared Error (MSE):** Measures the average of the squares of the errors, giving higher weight to larger errors.\n",
    "3. **Root Mean Squared Error (RMSE):** The square root of the MSE, providing an error metric in the same units as the target variable.\n",
    "4. **R-squared (R²):** Indicates the proportion of the variance in the dependent variable that is predictable from the independent variables.\n",
    "\n",
    "Among these, **RMSE** is often preferred because it penalizes larger errors more than MAE and provides a more accurate measure of the model's performance. **R²** is also useful for understanding the proportion of variance explained by the model.\n"
   ]
  },
  {
   "cell_type": "markdown",
   "id": "9cd1ce8d-ab9b-42f3-b007-106300254076",
   "metadata": {},
   "source": [
    "**Q2. You have built an SVM regression model and are trying to decide between using MSE or R-squared as\n",
    "your evaluation metric. Which metric would be more appropriate if your goal is to predict the actual price\n",
    "of a house as accurately as possible?**"
   ]
  },
  {
   "cell_type": "markdown",
   "id": "d61b662c-c88d-4ae0-91bb-803d12ee6ed1",
   "metadata": {},
   "source": [
    "**ANSWER:--------**\n",
    "\n",
    "\n",
    "When our goal is to predict the actual price of a house as accurately as possible, Mean Squared Error (MSE) is generally more appropriate. MSE directly measures the average squared difference between the predicted and actual values, thus giving more weight to larger errors. This focus on minimizing the magnitude of errors makes it a better choice for achieving high precision in price predictions.\n",
    "\n",
    "R-squared (R²) measures the proportion of the variance in the dependent variable that is predictable from the independent variables, but it does not provide information about the scale of prediction errors, which is crucial when predicting exact prices."
   ]
  },
  {
   "cell_type": "markdown",
   "id": "f0d3c7d6-b2ed-441d-a554-3fe27c95faa3",
   "metadata": {},
   "source": [
    "**Q3. You have a dataset with a significant number of outliers and are trying to select an appropriate\n",
    "regression metric to use with your SVM model. Which metric would be the most appropriate in this\n",
    "scenario?**"
   ]
  },
  {
   "cell_type": "markdown",
   "id": "f060cd03-7f3f-48f4-95af-7a32a65f6fb9",
   "metadata": {},
   "source": [
    "**ANSWER:------**\n",
    "\n",
    "\n",
    "When dealing with a dataset that contains a significant number of outliers, the Mean Absolute Error (MAE) is typically the most appropriate regression metric. MAE measures the average magnitude of the errors in a set of predictions, without considering their direction, and it is less sensitive to outliers compared to metrics like Mean Squared Error (MSE). This makes MAE a better choice when you want to minimize the impact of outliers on your evaluation."
   ]
  },
  {
   "cell_type": "markdown",
   "id": "254f3c1b-cb1c-4f47-8413-2fe124c4545a",
   "metadata": {},
   "source": [
    "**Q4. You have built an SVM regression model using a polynomial kernel and are trying to select the best\n",
    "metric to evaluate its performance. You have calculated both MSE and RMSE and found that both values\n",
    "are very close. Which metric should you choose to use in this case?**"
   ]
  },
  {
   "cell_type": "markdown",
   "id": "531fa40b-04cb-426b-9932-7e231176484e",
   "metadata": {},
   "source": [
    "**ANSWER:------**\n",
    "\n",
    "\n",
    "When choosing between Mean Squared Error (MSE) and Root Mean Squared Error (RMSE) and finding that both values are very close, RMSE is generally preferred. RMSE is in the same units as the target variable (house prices, in this case), which makes interpretation more straightforward and understandable compared to MSE, which is in squared units. RMSE provides a clear measure of the average magnitude of the prediction errors, making it more intuitive for assessing the model's performance."
   ]
  },
  {
   "cell_type": "markdown",
   "id": "aa649e2d-c258-4c8e-ad82-aa2a69ff58be",
   "metadata": {},
   "source": [
    "**Q5. You are comparing the performance of different SVM regression models using different kernels (linear,\n",
    "polynomial, and RBF) and are trying to select the best evaluation metric. Which metric would be most\n",
    "appropriate if your goal is to measure how well the model explains the variance in the target variable?**"
   ]
  },
  {
   "cell_type": "markdown",
   "id": "ca43b8a2-1922-43a5-b71d-3b1bb0861b5a",
   "metadata": {},
   "source": [
    "**ANSWER:-------**\n",
    "\n",
    "\n",
    "If our goal is to measure how well the model explains the variance in the target variable, the most appropriate evaluation metric would be R-squared (R²). R-squared provides a measure of how much of the variance in the target variable is explained by the model. A higher R-squared value indicates that the model explains a larger portion of the variance, making it a suitable metric for comparing the performance of different SVM regression models with different kernels."
   ]
  },
  {
   "cell_type": "code",
   "execution_count": null,
   "id": "f932c2a7-cfd5-4f61-9b48-03420ee52898",
   "metadata": {},
   "outputs": [],
   "source": []
  }
 ],
 "metadata": {
  "kernelspec": {
   "display_name": "Python 3 (ipykernel)",
   "language": "python",
   "name": "python3"
  },
  "language_info": {
   "codemirror_mode": {
    "name": "ipython",
    "version": 3
   },
   "file_extension": ".py",
   "mimetype": "text/x-python",
   "name": "python",
   "nbconvert_exporter": "python",
   "pygments_lexer": "ipython3",
   "version": "3.10.8"
  }
 },
 "nbformat": 4,
 "nbformat_minor": 5
}
